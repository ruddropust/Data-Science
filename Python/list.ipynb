{
 "cells": [
  {
   "cell_type": "markdown",
   "metadata": {},
   "source": [
    "## List Methods\n",
    "\n",
    "Python has a set of built-in methods that you can use on lists.\n",
    "\n",
    "| Method      | Description                                                                 |\n",
    "|-------------|-----------------------------------------------------------------------------|\n",
    "| `append()`  | Adds an element at the end of the list                                      |\n",
    "| `clear()`   | Removes all the elements from the list                                      |\n",
    "| `copy()`    | Returns a copy of the list                                                  |\n",
    "| `count()`   | Returns the number of elements with the specified value                     |\n",
    "| `extend()`  | Add the elements of a list (or any iterable), to the end of the current list |\n",
    "| `index()`   | Returns the index of the first element with the specified value             |\n",
    "| `insert()`  | Adds an element at the specified position                                   |\n",
    "| `pop()`     | Removes the element at the specified position                               |\n",
    "| `remove()`  | Removes the item with the specified value                                   |\n",
    "| `reverse()` | Reverses the order of the list                                              |\n",
    "| `sort()`    | Sorts the list                                                              |\n"
   ]
  }
 ],
 "metadata": {
  "language_info": {
   "name": "python"
  }
 },
 "nbformat": 4,
 "nbformat_minor": 2
}
