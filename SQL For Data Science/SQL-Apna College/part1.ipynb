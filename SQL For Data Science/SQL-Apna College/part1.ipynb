{
 "cells": [
  {
   "cell_type": "markdown",
   "metadata": {},
   "source": [
    "A **Database** is an organized collection of data that is stored and managed to allow easy access, retrieval, and manipulation. Databases are used to store information in a structured format, typically using tables, rows, and columns, making it easier to query and analyze the data.\n",
    "\n",
    "### Key Features of a Database:\n",
    "- **Data Organization**: Stores data in a structured way, often in tables.\n",
    "- **Data Management**: Allows for efficient insertion, updating, and deletion of data.\n",
    "- **Querying**: Supports querying languages like SQL to retrieve specific data.\n",
    "- **Scalability**: Can handle large amounts of data.\n",
    "- **Security**: Provides mechanisms to secure sensitive data.\n",
    "\n",
    "### Types of Databases:\n",
    "1. **Relational Databases (RDBMS)**: Use tables with rows and columns (e.g., MySQL, PostgreSQL, SQLite).\n",
    "2. **NoSQL Databases**: Handle unstructured or semi-structured data (e.g., MongoDB, Cassandra).\n",
    "3. **In-Memory Databases**: Store data in memory for faster access (e.g., Redis).\n",
    "4. **Graph Databases**: Focus on relationships between data (e.g., Neo4j).\n",
    "5. **Cloud Databases**: Hosted on cloud platforms (e.g., Amazon RDS, Google Cloud Firestore).\n",
    "\n",
    "### Common Use Cases:\n",
    "- Storing user information for web applications.\n",
    "- Managing inventory in e-commerce platforms.\n",
    "- Analyzing large datasets for business intelligence.\n",
    "- Logging and monitoring system events."
   ]
  },
  {
   "cell_type": "markdown",
   "metadata": {},
   "source": [
    "![im](https://private-user-images.githubusercontent.com/69819149/433528128-2fb1aae7-b798-4882-803b-904e601585a7.png?jwt=eyJhbGciOiJIUzI1NiIsInR5cCI6IkpXVCJ9.eyJpc3MiOiJnaXRodWIuY29tIiwiYXVkIjoicmF3LmdpdGh1YnVzZXJjb250ZW50LmNvbSIsImtleSI6ImtleTUiLCJleHAiOjE3NDQ2NTk4NDIsIm5iZiI6MTc0NDY1OTU0MiwicGF0aCI6Ii82OTgxOTE0OS80MzM1MjgxMjgtMmZiMWFhZTctYjc5OC00ODgyLTgwM2ItOTA0ZTYwMTU4NWE3LnBuZz9YLUFtei1BbGdvcml0aG09QVdTNC1ITUFDLVNIQTI1NiZYLUFtei1DcmVkZW50aWFsPUFLSUFWQ09EWUxTQTUzUFFLNFpBJTJGMjAyNTA0MTQlMkZ1cy1lYXN0LTElMkZzMyUyRmF3czRfcmVxdWVzdCZYLUFtei1EYXRlPTIwMjUwNDE0VDE5MzkwMlomWC1BbXotRXhwaXJlcz0zMDAmWC1BbXotU2lnbmF0dXJlPTNhN2Q5YWU3MzEwNDA2Y2ZlNzIxZTJjOWNhODRjNmMyNDUyYzA5NTJkMjg5MWFjNjQ0MDc3MzU0MjNhZTljM2QmWC1BbXotU2lnbmVkSGVhZGVycz1ob3N0In0.96A-uEbfvOKSc4k6Qqn3KRGuoZOBNQEy7fJ4F-rG3cg)"
   ]
  },
  {
   "cell_type": "markdown",
   "metadata": {},
   "source": [
    "![Image](https://private-user-images.githubusercontent.com/69819149/433530626-0665a6ca-f937-4689-9df7-37e2d68390df.png?jwt=eyJhbGciOiJIUzI1NiIsInR5cCI6IkpXVCJ9.eyJpc3MiOiJnaXRodWIuY29tIiwiYXVkIjoicmF3LmdpdGh1YnVzZXJjb250ZW50LmNvbSIsImtleSI6ImtleTUiLCJleHAiOjE3NDQ2NjAyMjQsIm5iZiI6MTc0NDY1OTkyNCwicGF0aCI6Ii82OTgxOTE0OS80MzM1MzA2MjYtMDY2NWE2Y2EtZjkzNy00Njg5LTlkZjctMzdlMmQ2ODM5MGRmLnBuZz9YLUFtei1BbGdvcml0aG09QVdTNC1ITUFDLVNIQTI1NiZYLUFtei1DcmVkZW50aWFsPUFLSUFWQ09EWUxTQTUzUFFLNFpBJTJGMjAyNTA0MTQlMkZ1cy1lYXN0LTElMkZzMyUyRmF3czRfcmVxdWVzdCZYLUFtei1EYXRlPTIwMjUwNDE0VDE5NDUyNFomWC1BbXotRXhwaXJlcz0zMDAmWC1BbXotU2lnbmF0dXJlPWMxYjcxMjY0YTQ4NDlkNjkxNDc2NTc5ZjVmYmVjZGNhOGVlNmNjODM4MWYyYjkyMTE1NDBlYjgxM2RhNzY3NmEmWC1BbXotU2lnbmVkSGVhZGVycz1ob3N0In0.zZ-BHu4GZCSXjuZF56ETFo60MAhJLBWc7c9e_21hV-w)\n"
   ]
  },
  {
   "cell_type": "markdown",
   "metadata": {},
   "source": [
    "![](https://private-user-images.githubusercontent.com/69819149/433538473-3ef9ce98-464e-498f-81af-3515e8eec290.png?jwt=eyJhbGciOiJIUzI1NiIsInR5cCI6IkpXVCJ9.eyJpc3MiOiJnaXRodWIuY29tIiwiYXVkIjoicmF3LmdpdGh1YnVzZXJjb250ZW50LmNvbSIsImtleSI6ImtleTUiLCJleHAiOjE3NDQ2NjE4MTYsIm5iZiI6MTc0NDY2MTUxNiwicGF0aCI6Ii82OTgxOTE0OS80MzM1Mzg0NzMtM2VmOWNlOTgtNDY0ZS00OThmLTgxYWYtMzUxNWU4ZWVjMjkwLnBuZz9YLUFtei1BbGdvcml0aG09QVdTNC1ITUFDLVNIQTI1NiZYLUFtei1DcmVkZW50aWFsPUFLSUFWQ09EWUxTQTUzUFFLNFpBJTJGMjAyNTA0MTQlMkZ1cy1lYXN0LTElMkZzMyUyRmF3czRfcmVxdWVzdCZYLUFtei1EYXRlPTIwMjUwNDE0VDIwMTE1NlomWC1BbXotRXhwaXJlcz0zMDAmWC1BbXotU2lnbmF0dXJlPWVlNjY3NzQyMTdkMDdmYmEwZDZmYTYwZDk4ODg2Nzc0ZDA3NmFkMDk3NTJlMzE1YTRjYWRhMmYxMmNjOWU0OTAmWC1BbXotU2lnbmVkSGVhZGVycz1ob3N0In0.ShmcY100cjFvpXRNe5hIWUoEohZSz9nkIpFDvYnOCfY)"
   ]
  }
 ],
 "metadata": {
  "kernelspec": {
   "display_name": "base",
   "language": "python",
   "name": "python3"
  },
  "language_info": {
   "codemirror_mode": {
    "name": "ipython",
    "version": 3
   },
   "file_extension": ".py",
   "mimetype": "text/x-python",
   "name": "python",
   "nbconvert_exporter": "python",
   "pygments_lexer": "ipython3",
   "version": "3.12.3"
  }
 },
 "nbformat": 4,
 "nbformat_minor": 2
}
